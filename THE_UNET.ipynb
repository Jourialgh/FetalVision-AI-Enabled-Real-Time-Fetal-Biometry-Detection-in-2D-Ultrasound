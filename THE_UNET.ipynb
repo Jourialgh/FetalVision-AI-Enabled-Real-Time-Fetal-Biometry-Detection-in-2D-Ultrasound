 from google.colab import drive

drive.mount('/content/gdrive')
import os
import cv2
from PIL import Image
import numpy as np
from matplotlib import pyplot as plt
from sklearn.preprocessing import MinMaxScaler
from tensorflow.keras.optimizers import Adam
import glob
img_directory=""
mask_directory=""
size=256
num_img=999
image_names=glob.glob("/content/gdrive/MyDrive/data/train/images/*.png")

image_names.sort()

print(len(image_names))
image_names_subset=image_names[0:num_img]
images=[cv2.imread(img,0) for img in image_names_subset]
images=[cv2.resize(img,(256,256)) for img in images]
image_dataset=np.array(images)
print(image_dataset.shape)

image_dataset=np.expand_dims(image_dataset, axis=3)
mask_names=glob.glob("/content/gdrive/MyDrive/data/train/annotations/*.png")

mask_names.sort()
mask_names_subset=mask_names[0:num_img]
masks=[cv2.imread(mask,0) for mask in mask_names_subset]
masks=[cv2.resize(mask,(256,256)) for mask in masks]
mask_dataset=np.array(masks)
mask_dataset=np.expand_dims(mask_dataset, axis=3)
image_names=glob.glob("/content/gdrive/MyDrive/data/test/images/*.png")
image_names.sort()

print(len(image_names))
image_names_subset=image_names[0:num_img]
images=[cv2.imread(img,0) for img in image_names_subset]
images=[cv2.resize(img,(256,256)) for img in images]
image_dataset=np.array(images)
print(image_dataset.shape)

image_dataset=np.expand_dims(image_dataset, axis=3)

mask_names=glob.glob("/content/gdrive/MyDrive/data/test/annotations/*.png")

mask_names.sort()
mask_names_subset=mask_names[0:num_img]
masks=[cv2.imread(mask,0) for mask in mask_names_subset]
masks=[cv2.resize(mask,(256,256)) for mask in masks]
mask_dataset=np.array(masks)
mask_dataset=np.expand_dims(mask_dataset, axis=3)
image_names=glob.glob("/content/gdrive/MyDrive/data/val/images/*.png")

image_names.sort()

print(len(image_names))
image_names_subset=image_names[0:num_img]
images=[cv2.imread(img,0) for img in image_names_subset]
images=[cv2.resize(img,(256,256)) for img in images]
image_dataset=np.array(images)
print(image_dataset.shape)

image_dataset=np.expand_dims(image_dataset, axis=3)
mask_names=glob.glob("/content/gdrive/MyDrive/data/val/annotations/*.png")

mask_names.sort()
mask_names_subset=mask_names[0:num_img]
masks=[cv2.imread(mask,0) for mask in mask_names_subset]
masks=[cv2.resize(mask,(256,256)) for mask in masks]
mask_dataset=np.array(masks)
mask_dataset=np.expand_dims(mask_dataset, axis=3)
mask_dataset.shape
image_dataset=image_dataset/256
mask_dataset=mask_dataset/256
from sklearn.model_selection import train_test_split
X_train,X_test,y_train,y_test=train_test_split(image_dataset,mask_dataset, test_size=.2, random_state=42)
import random
image_number=random.randint(0,len(X_train))
plt.figure(figsize=(12,6))
plt.subplot(121)
plt.imshow(X_train[image_number,:,:,0],cmap='gray')
plt.subplot(122)
plt.imshow(y_train[image_number,:,:,0], cmap="gray")
plt.show()
X_train[image_number,:,:,0].shape
!pip install keras
from keras.layers import Conv2D, MaxPooling2D, UpSampling2D, Conv2DTranspose
from keras.models import Model
from keras.layers import Conv2D, MaxPooling2D, UpSampling2D, Conv2DTranspose
from tensorflow.keras.optimizers import Adam
from keras.layers import Activation, MaxPooling2D, Concatenate, Input, BatchNormalization, Dropout, Lambda
from tensorflow.keras.layers import Conv2D, MaxPooling2D, UpSampling2D, Conv2DTranspose
def conv_block(input, num_filters):
    x=Conv2D(num_filters,3,padding="same")(input)
    x=BatchNormalization()(x)
    x=Activation("relu")(x)


    x=Conv2D(num_filters,3,padding="same")(x)
    x=BatchNormalization()(x)
    x=Activation("relu")(x)
    return x
def encoder_block(input, num_filters):
    x=conv_block(input,num_filters)
    p=MaxPooling2D((2,2))(x)

    return x,p




def decoder_block(input,skip_feature, num_filters):
    x=Conv2DTranspose(num_filters,(2,2),strides=2, padding="same")(input)
    x=Concatenate()([x,skip_feature])
    x=conv_block(x,num_filters)
    return x
def build_unet(input_shape, n_classes):
    inputs=Input(input_shape)

    s1,p1=encoder_block(inputs,64)
    s2,p2=encoder_block(p1,128)
    s3,p3=encoder_block(p2,256)
    s4,p4=encoder_block(p3,512)


    b1=conv_block(p4,1024) # bridge


    d1=decoder_block(b1,s4,512)
    d2=decoder_block(d1,s3,256)
    d3=decoder_block(d2, s2,128)
    d4=decoder_block(d3,s1,64)

    if n_classes==1:
        activation="sigmoid"

    else:
        activation="softmax"



    outputs=Conv2D(n_classes,1,padding="same",activation=activation)(d4)


    model=Model(inputs,outputs,name="U-Net")

    return model
Img_height=image_dataset.shape[1]
Img_width=image_dataset.shape[2]
Img_channel=image_dataset.shape[3]
input_shape=(Img_height,Img_width,Img_channel)
Img_height
model=build_unet(input_shape,n_classes=1)
model.summary()
model.compile(optimizer=Adam(learning_rate=0.0001),loss='binary_crossentropy',metrics=["accuracy"])
history=model.fit(X_train,y_train,
                 batch_size=3,
                 verbose=1,
                 epochs=3,
                 validation_data=(X_test,y_test),
                 shuffle=False)
fig, (ax1, ax2) = plt.subplots(1, 2, figsize=(12, 4))

# Plot training and validation loss
ax1.plot(history.history['loss'], label='Training Loss')
ax1.plot(history.history['val_loss'], label='Validation Loss')
ax1.set_title('Training and Validation Loss')
ax1.set_xlabel('Epoch')
ax1.set_ylabel('Loss')
ax1.legend()

# Plot training and validation accuracy
ax2.plot(history.history['accuracy'], label='Training Accuracy')
ax2.plot(history.history['val_accuracy'], label='Validation Accuracy')
ax2.set_title('Training and Validation Accuracy')
ax2.set_xlabel('Epoch')
ax2.set_ylabel('Accuracy')
ax2.legend()
thrshold=0
test_img_number=random.randint(0,len(X_test))
test_img=X_test[test_img_number]
ground_truth=y_test[test_img_number]
test_image_input=np.expand_dims(test_img,0)
prediction=(model.predict(test_image_input)[0,:,:,:]>.1).astype(np.uint8)


plt.figure(figsize=(16,8))
plt.title("testing Image")
plt.subplot(221)
plt.imshow(test_img[:,:,:],cmap='gray')

plt.figure(figsize=(16,8))
plt.title("true value")
plt.subplot(222)
plt.imshow(ground_truth[:,:,:],cmap='gray')


plt.figure(figsize=(16,8))
plt.title("predicted")
plt.subplot(223)
plt.imshow(prediction,cmap='gray')
plt.show()
predict=prediction*255
X_test.shape[0]
image_dataset.shape
predicts=[]
masks=[]

def prediction(image_dataset, mask_dataset):
    for i in range(image_dataset.shape[0]):
        test_img=image_dataset[i]
        ground_truth=mask_dataset[i]
        test_image_input=np.expand_dims(test_img,0)
        predict=(model.predict(test_image_input)[0,:,:,:]>.141).astype(np.uint8)
        masks.append(ground_truth)
        predicts.append(predict)

    return predicts, masks
predicts, masks=prediction(X_test,y_test)
def mse(img1, img2):
   h, w = img1.shape
   diff = cv2.subtract(img1, img2)
   err = np.sum(diff**2)
   mse = err/(float(h*w))
   return mse, diff
def prediction(image_dataset, mask_dataset):
    predicts = []
    masks = []

    for i in range(image_dataset.shape[0]):
        test_img = image_dataset[i]
        ground_truth = mask_dataset[i]
        test_image_input = np.expand_dims(test_img, 0)

def prediction(image_dataset, mask_dataset):
    predicts = []
    masks = []
    for i in range(image_dataset.shape[0]):
        test_img = image_dataset[i]
        ground_truth = mask_dataset[i]
        test_image_input = np.expand_dims(test_img, 0)
        predict = (model.predict(test_image_input)[0, :, :, :] > 0.141).astype(np.uint8)

        # Check if predict is None or an empty array
        if predict is None or predict.size == 0:
            print(f"Warning: model.predict returned None or an empty array for image {i}")
            continue

        predicts.append(predict)
        masks.append(ground_truth)

    return predicts, masks
ERROR=[]
def MSE(masks, predicts):
    masks=[np.asarray(mask, np.float64) for mask in masks]
    masks=[img[:,:,0] for img in masks]


    preds=[np.asarray(pred, np.float64) for pred in predicts]
    preds=[img[:,:,0] for img in preds ]



    for mask , pred in zip(masks, preds):
        error, diff=mse(mask,pred)
        ERROR.append(error)
MSE(X_test,y_test)
predicts = np.array(predicts)
predicts.shape
plt.subplot(121),plt.imshow(ground_truth[:,:,:])
bgr_img=test_image_input
bgr_img=predicts
bgr_img.dtype
y_pred=model.predict(X_test)
y_pred_threshold=y_pred>0.5
from tensorflow.keras.metrics import MeanIoU
n_classes=2
Iou_keras=MeanIoU(num_classes=n_classes)
Iou_keras.update_state(y_pred_threshold,y_test)
print("mean=",Iou_keras.result().numpy() )
y_pred[7].shape
plt.imshow(y_pred[7], cmap = 'gray', interpolation = 'bicubic')
plt.xticks([]), plt.yticks([])  # to hide tick values on X and Y axis
plt.show()
import random
import matplotlib.pyplot as plt

# Generate a random index for the testing dataset
random_index = random.randint(0, len(X_test) - 1)

# Retrieve the random image and its corresponding mask from the testing dataset
random_image = X_test[random_index]
random_mask = y_test[random_index]

# Plot the random image and its mask
plt.figure(figsize=(12, 6))
plt.subplot(121)
plt.imshow(random_image[:, :, 0], cmap='gray')
plt.title('Random Test Image')
plt.subplot(122)
plt.imshow(random_mask[:, :, 0], cmap='gray')
plt.title('Corresponding Test Mask')
plt.show()
import unittest
import random
import matplotlib.pyplot as plt

class MyCodeUnitTest(unittest.TestCase):
    def test_random_image_display(self):
        try:
            height = 256  # Replace with the actual height of your image
            width = 256  # Replace with the actual width of your image
            channels = 3  # Replace with the actual number of channels in your image
            desired_shape = (height, width, channels)

            # Generate a random index for the testing dataset
            random_index = random.randint(0, len(X_test) - 1)

            # Retrieve the random image and its corresponding mask from the testing dataset
            random_image = X_test[random_index]
            random_mask = y_test[random_index]

            # Plot the random image and its mask
            plt.figure(figsize=(12, 6))
            plt.subplot(121)
            plt.imshow(random_image[:, :, 0], cmap='gray')
            plt.title('Random Test Image')
            plt.subplot(122)
            plt.imshow(random_mask[:, :, 0], cmap='gray')
            plt.title('Corresponding Test Mask')
            plt.show()

            # Add assertions to verify the correctness of the displayed image and mask
            self.assertEqual(random_image.shape, desired_shape)
            self.assertEqual(random_image.dtype, np.uint8)

            # You can add more assertions to validate other aspects of the displayed image and mask

        except Exception as e:
            traceback.print_exc()  # Print the traceback if an exception occurs
            raise e  # Re-raise the exception to mark the test as failed

if __name__ == '__main__':
    unittest.main(argv=[''], exit=False)
import unittest
import random
import matplotlib.pyplot as plt
import numpy as np

class UnitTest(unittest.TestCase):
    def test_random_image_display(self):
        try:
            height = 256
            width = 256
            desired_shape = (height, width, 1)

            # Generate a random index for the testing dataset
            random_index = random.randint(0, len(X_test) - 1)

            # Retrieve the random image and its corresponding mask from the testing dataset
            random_image = X_test[random_index]
            random_mask = y_test[random_index]

            # Convert the random image to uint8
            random_image = (random_image * 255).astype(np.uint8)

            # Plot the random image and its mask
            plt.figure(figsize=(12, 6))
            plt.subplot(121)
            plt.imshow(random_image[:, :, 0], cmap='gray')
            plt.title('Random Test Image')
            plt.subplot(122)
            plt.imshow(random_mask[:, :, 0], cmap='gray')
            plt.title('Corresponding Test Mask')
            plt.show()

            self.assertEqual(random_image.shape, desired_shape)
            self.assertEqual(random_image.dtype, np.uint8)



        except Exception as e:
            traceback.print_exc()
            raise e

if __name__ == '__main__':
    unittest.main(argv=[''], exit=False)
